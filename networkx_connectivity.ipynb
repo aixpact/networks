{
 "cells": [
  {
   "cell_type": "markdown",
   "metadata": {},
   "source": [
    "# Network Connectivity\n",
    "\n",
    "Importing and analyzing an internal email communication network between employees of a mid-sized manufacturing company.\n",
    "Each node represents an employee and each directed edge between two nodes represents an individual email. The left node represents the sender and the right node represents the recipient.\n",
    "\n",
    "[Networkx basic tutorial](http://pynetwork.readthedocs.io/en/latest/networkx_basics.html)"
   ]
  },
  {
   "cell_type": "code",
   "execution_count": null,
   "metadata": {},
   "outputs": [],
   "source": [
    "import networkx as nx"
   ]
  },
  {
   "cell_type": "code",
   "execution_count": null,
   "metadata": {},
   "outputs": [],
   "source": [
    "!find ../.. |grep -i email_network"
   ]
  },
  {
   "cell_type": "markdown",
   "metadata": {},
   "source": [
    "#### Load a directed multigraph networkx graph"
   ]
  },
  {
   "cell_type": "code",
   "execution_count": null,
   "metadata": {},
   "outputs": [],
   "source": [
    "G = nx.read_edgelist('../../_data/email_network.txt', data=[('time', int)], create_using=nx.MultiDiGraph())\n",
    "assert G.is_directed()\n",
    "assert G.is_multigraph()\n",
    "print(nx.info(G))"
   ]
  },
  {
   "cell_type": "markdown",
   "metadata": {},
   "source": [
    "#### Nodes and edges"
   ]
  },
  {
   "cell_type": "code",
   "execution_count": null,
   "metadata": {},
   "outputs": [],
   "source": [
    "frequency = G.degree()\n",
    "employees = len(G.nodes())\n",
    "emails = len(G.edges())\n",
    "employees, emails"
   ]
  },
  {
   "cell_type": "markdown",
   "metadata": {},
   "source": [
    "#### Connectivity\n",
    "\n",
    "In the mathematical theory of directed graphs, a graph is said to be __strongly connected__ if every node is reachable from every other node.\n",
    " \n",
    "* Part 1. __Strongly connected__\n",
    "Assume that information in this company can only be exchanged through email. When an employee sends an email to another employee, a communication channel has been created, allowing the sender to provide information to the receiver, but not vice versa. Based on the emails sent in the data, is it possible for information to go from every employee to every other employee?\n",
    "    \n",
    "* Part 2. __Weakly connected__\n",
    "Assume that a communication channel established by an email allows information to be exchanged both ways. Based on the emails sent in the data, is it possible for information to go from every employee to every other employee?\n",
    "\n",
    "*This function should return a tuple of bools (part1, part2).*\n",
    "\n",
    "\n",
    "In a directed graph, we can make connectivity symmetric in one of two different ways:\n",
    "\n",
    "Define `u` to be strongly connected to `v` if `u →* v` and `v →* u`. \n",
    "I.e. `u` and `v` are strongly connected if you can go from `u` to `v` and back again (not necessarily through the same nodes). \n",
    "Easy to see that strong connectivity is an equivalence relation. Equivalence class are called strongly-connected components. G is strongly connected if it has one strongly-connected component, i.e. if every node is reachable from every other node.\n",
    "\n",
    "Define u to be weakly connected to `v` if `u →* v` in the undirected graph obtained by ignoring edge orientation.\n",
    "\n",
    "Intuition is that `u` is weakly connected to `v` if there is a path from `u` to `v` if you are allowed to cross edges backwards. Weakly-connected components are defined by equivalence classes; graph is weakly-connected if it has one component. \n",
    "\n",
    "__Weak connectivity is a \"weaker\" property that strong connectivity in the sense that if `u` is strongly connected to `v`, then `u` is also weakly connected to `v`; but the converse does not necessarily hold.__"
   ]
  },
  {
   "cell_type": "code",
   "execution_count": null,
   "metadata": {},
   "outputs": [],
   "source": [
    "# 1. Strongly connected?\n",
    "strong = nx.is_strongly_connected(G)\n",
    "\n",
    "# 2. Weak connected?\n",
    "weak = nx.is_weakly_connected(G)\n",
    "strong, weak"
   ]
  },
  {
   "cell_type": "markdown",
   "metadata": {},
   "source": [
    "#### Number of nodes are in the largest (in terms of nodes) weakly connected component"
   ]
  },
  {
   "cell_type": "code",
   "execution_count": null,
   "metadata": {},
   "outputs": [],
   "source": [
    "no_weak_components = nx.number_weakly_connected_components(G)\n",
    "no_weak_nodes = len(list(nx.weakly_connected_components(G))[0])\n",
    "no_weak_nodes"
   ]
  },
  {
   "cell_type": "markdown",
   "metadata": {},
   "source": [
    "#### Number of nodes are in the largest (in terms of nodes) strongly connected component"
   ]
  },
  {
   "cell_type": "code",
   "execution_count": null,
   "metadata": {},
   "outputs": [],
   "source": [
    "#     no_strong_components = nx.number_strongly_connected_components(G)\n",
    "\n",
    "components = sorted(nx.strongly_connected_components(G))\n",
    "max_nodes_per_component = max([len(c) for c in components])\n",
    "\n",
    "# or\n",
    "#     components = nx.strongly_connected_component_subgraphs(G)\n",
    "#     max_nodes_per_component = max([len(c) for c in components])\n",
    "\n",
    "max_nodes_per_component"
   ]
  },
  {
   "cell_type": "markdown",
   "metadata": {},
   "source": [
    "#### Subgraph of nodes in a largest strongly connected component"
   ]
  },
  {
   "cell_type": "code",
   "execution_count": null,
   "metadata": {},
   "outputs": [],
   "source": [
    "G_sc = [Gc for Gc in sorted(nx.strongly_connected_component_subgraphs(G), key=len, reverse=True)][0]\n",
    "print(nx.info(G_sc))"
   ]
  },
  {
   "cell_type": "markdown",
   "metadata": {},
   "source": [
    "#### Average distance between nodes in G_sc"
   ]
  },
  {
   "cell_type": "code",
   "execution_count": null,
   "metadata": {},
   "outputs": [],
   "source": [
    "nx.average_shortest_path_length(G_sc)"
   ]
  },
  {
   "cell_type": "markdown",
   "metadata": {},
   "source": [
    "#### Largest possible distance between two employees in G_sc"
   ]
  },
  {
   "cell_type": "code",
   "execution_count": null,
   "metadata": {},
   "outputs": [],
   "source": [
    "nx.diameter(G_sc)"
   ]
  },
  {
   "cell_type": "markdown",
   "metadata": {},
   "source": [
    "#### set of nodes in G_sc with eccentricity equal to the diameter"
   ]
  },
  {
   "cell_type": "code",
   "execution_count": null,
   "metadata": {},
   "outputs": [],
   "source": [
    "set(nx.periphery(G_sc))"
   ]
  },
  {
   "cell_type": "markdown",
   "metadata": {},
   "source": [
    "#### set of node(s) in G_sc with eccentricity equal to the radius"
   ]
  },
  {
   "cell_type": "code",
   "execution_count": null,
   "metadata": {},
   "outputs": [],
   "source": [
    "set(nx.center(G_sc))"
   ]
  },
  {
   "cell_type": "markdown",
   "metadata": {},
   "source": [
    "### Most connected node by shortest path equal to graph diameter\n",
    "Which node in G_sc is connected to the most other nodes by a shortest path of length equal to the diameter of G_sc?\n",
    "How many nodes are connected to this node?\n",
    "*This function should return a tuple (name of node, number of satisfied connected nodes).*"
   ]
  },
  {
   "cell_type": "code",
   "execution_count": null,
   "metadata": {},
   "outputs": [],
   "source": [
    "from collections import Counter\n",
    "\n",
    "peri_nodes = nx.periphery(G_sc)\n",
    "diameter = nx.diameter(G_sc)\n",
    "list(peri_nodes)\n",
    "diameter\n",
    "\n",
    "# max(frequency of values == diameter per node)\n",
    "node_11 = max([\n",
    "    (node, Counter(nx.shortest_path_length(G_sc, node).values())[diameter])\n",
    "    for node in peri_nodes])\n",
    "node_11"
   ]
  },
  {
   "cell_type": "markdown",
   "metadata": {},
   "source": [
    "#### Node cut\n",
    "Suppose you want to prevent communication from flowing to the node that you found in the previous question from any node in the center of G_sc, what is the smallest number of nodes you would need to remove from the graph (you're not allowed to remove the node from the previous question or the center nodes)?"
   ]
  },
  {
   "cell_type": "code",
   "execution_count": null,
   "metadata": {},
   "outputs": [],
   "source": [
    "center_nodes = nx.center(G_sc)\n",
    "center_nodes[0]\n",
    "\n",
    "no_cut_nodes = len([nx.minimum_node_cut(G_sc, cn, node_11[0]) for cn in center_nodes][0])\n",
    "no_cut_nodes"
   ]
  },
  {
   "cell_type": "markdown",
   "metadata": {},
   "source": [
    "#### Construct an undirected graph G_un using G_sc (you can ignore the attributes)."
   ]
  },
  {
   "cell_type": "code",
   "execution_count": null,
   "metadata": {},
   "outputs": [],
   "source": [
    "assert G_sc.is_multigraph() | G_sc.is_directed()\n",
    "\n",
    "G_un = nx.Graph(G_sc).to_undirected()\n",
    "\n",
    "assert ~G_un.is_multigraph() & ~G_un.is_directed()\n",
    "print(nx.info(G_un))"
   ]
  },
  {
   "cell_type": "markdown",
   "metadata": {},
   "source": [
    "#### Transitivity and average clustering coefficient of graph G_un"
   ]
  },
  {
   "cell_type": "code",
   "execution_count": null,
   "metadata": {},
   "outputs": [],
   "source": [
    "transitivity = nx.transitivity(G_un)\n",
    "avg_clustering = nx.average_clustering(G_un)\n",
    "\n",
    "transitivity, avg_clustering"
   ]
  },
  {
   "cell_type": "code",
   "execution_count": null,
   "metadata": {},
   "outputs": [],
   "source": []
  }
 ],
 "metadata": {
  "language_info": {
   "name": "python",
   "pygments_lexer": "ipython3"
  }
 },
 "nbformat": 4,
 "nbformat_minor": 2
}
