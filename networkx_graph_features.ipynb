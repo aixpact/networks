{
 "cells": [
  {
   "cell_type": "markdown",
   "metadata": {},
   "source": [
    "# Creating a feature matrix from a networkx graph\n",
    "\n",
    "In this notebook we will look at a few ways to quickly create a feature matrix from a networkx graph.\n",
    "\n",
    "[Networkx basic tutorial](http://pynetwork.readthedocs.io/en/latest/networkx_basics.html)"
   ]
  },
  {
   "cell_type": "code",
   "execution_count": null,
   "metadata": {},
   "outputs": [],
   "source": [
    "# %load ../_data/standard_import.txt\n",
    "\n",
    "%matplotlib inline\n",
    "\n",
    "import numpy as np\n",
    "import pandas as pd\n",
    "import matplotlib as mpl\n",
    "import matplotlib.pyplot as plt\n",
    "import seaborn as sns\n",
    "import networkx as nx\n",
    "import pickle\n",
    "\n",
    "plt.style.use('seaborn-white')"
   ]
  },
  {
   "cell_type": "markdown",
   "metadata": {},
   "source": [
    "### Data"
   ]
  },
  {
   "cell_type": "markdown",
   "metadata": {},
   "source": [
    "### Import edges and nodes into networkx 2.X"
   ]
  },
  {
   "cell_type": "markdown",
   "metadata": {},
   "source": [
    "<div class=warn>Networkx 1.X files cannot be read by networkx 2.X</div>\n",
    "\n",
    "```python\n",
    "file = './major_us_cities.dms'\n",
    "G = nx.read_gpickle(file)\n",
    "print(nx.info(G))\n",
    "\n",
    "list(G.edges(data=True))[:10]\n",
    "list(G.nodes(data=True))[:10]\n",
    "\n",
    "edges = pd.DataFrame(list(G.edges(data=True)))\n",
    "nodes = pd.DataFrame(list(G.nodes(data=True)))\n",
    "nodes.sample()\n",
    "edges.sample()\n",
    "\n",
    "# Use a lambda to pull out the attributes from the attributes dictionary in column 1\n",
    "nodes['location'] = nodes.loc[:, 1].map(lambda x: x['location'])\n",
    "nodes['population'] = nodes.loc[:, 1].map(lambda x: x['population'])\n",
    "del nodes[1]\n",
    "nodes.sample()\n",
    "\n",
    "# Use a lambda to pull out the attributes from the attributes dictionary in column 1\n",
    "edges['weight'] = edges.loc[:, 2].map(lambda x: x['weight'])\n",
    "del edges[2]\n",
    "edges.sample()\n",
    "\n",
    "edges.to_csv('major_us_cities_edges.csv')\n",
    "nodes.to_csv('major_us_cities_email_nodes.csv')\n",
    "```"
   ]
  },
  {
   "cell_type": "code",
   "execution_count": null,
   "metadata": {},
   "outputs": [],
   "source": [
    "!find .. | grep -i major_us_cities"
   ]
  },
  {
   "cell_type": "code",
   "execution_count": null,
   "metadata": {},
   "outputs": [],
   "source": [
    "nodes = pd.read_csv('../_data/major_us_cities_nodes.csv', index_col=0, \n",
    "                    names=['node', 'location', 'population'])\n",
    "edges = pd.read_csv('../_data/major_us_cities_edges.csv', index_col=0,\n",
    "                   names=['n1', 'n2', 'weight'])\n",
    "nodes.sample(3)\n",
    "edges.sample(3)"
   ]
  },
  {
   "cell_type": "code",
   "execution_count": null,
   "metadata": {},
   "outputs": [],
   "source": [
    "# First create graph from edges, then add nodes\n",
    "G = nx.from_pandas_dataframe(edges, 'n1', 'n2', edge_attr='weight')\n",
    "print(nx.info(G))"
   ]
  },
  {
   "cell_type": "code",
   "execution_count": null,
   "metadata": {},
   "outputs": [],
   "source": [
    "list(G.edges(data=True))[:5]\n",
    "list(G.nodes(data=True))[:5]\n",
    "\n",
    "# remove header\n",
    "try:\n",
    "    G.remove_node('0')\n",
    "    G.remove_node('1')\n",
    "    G.remove_edge('0', '1')\n",
    "except:\n",
    "    None"
   ]
  },
  {
   "cell_type": "code",
   "execution_count": null,
   "metadata": {},
   "outputs": [],
   "source": [
    "_ = [G.add_node(nodes.loc[n, 'node'], \n",
    "                location=nodes.loc[n, 'location'], \n",
    "                population=nodes.loc[n, 'population']) for n in nodes.index]"
   ]
  },
  {
   "cell_type": "code",
   "execution_count": null,
   "metadata": {},
   "outputs": [],
   "source": [
    "list(G.nodes(data=True))[:10]"
   ]
  },
  {
   "cell_type": "markdown",
   "metadata": {},
   "source": [
    "## Node based features"
   ]
  },
  {
   "cell_type": "code",
   "execution_count": null,
   "metadata": {},
   "outputs": [],
   "source": [
    "# Initialize the dataframe, using the nodes as the index\n",
    "df = pd.DataFrame(index=G.nodes())"
   ]
  },
  {
   "cell_type": "markdown",
   "metadata": {},
   "source": [
    "### Extracting attributes\n",
    "\n",
    "Using `nx.get_node_attributes` it's easy to extract the node attributes in the graph into DataFrame columns."
   ]
  },
  {
   "cell_type": "code",
   "execution_count": null,
   "metadata": {},
   "outputs": [],
   "source": [
    "df['location'] = pd.Series(nx.get_node_attributes(G, 'location'))\n",
    "df['population'] = pd.Series(nx.get_node_attributes(G, 'population'))\n",
    "\n",
    "df.head()"
   ]
  },
  {
   "cell_type": "markdown",
   "metadata": {},
   "source": [
    "### Creating node based features\n",
    "\n",
    "Most of the networkx functions related to nodes return a dictionary, which can also easily be added to our dataframe."
   ]
  },
  {
   "cell_type": "code",
   "execution_count": null,
   "metadata": {},
   "outputs": [],
   "source": [
    "list(nx.degree(G))[:10]\n",
    "pd.Series([d[1] for d in G.degree()]).head()"
   ]
  },
  {
   "cell_type": "code",
   "execution_count": null,
   "metadata": {},
   "outputs": [],
   "source": [
    "df['clustering'] = pd.Series(nx.clustering(G))\n",
    "df['degree'] = pd.Series([d[1] for d in G.degree()]).values\n",
    "df.head()"
   ]
  },
  {
   "cell_type": "markdown",
   "metadata": {},
   "source": [
    "# Edge based features"
   ]
  },
  {
   "cell_type": "code",
   "execution_count": null,
   "metadata": {},
   "outputs": [],
   "source": [
    "list(G.edges(data=True))[:5]"
   ]
  },
  {
   "cell_type": "code",
   "execution_count": null,
   "metadata": {},
   "outputs": [],
   "source": [
    "# Initialize the dataframe, using the edges as the index\n",
    "df = pd.DataFrame(index=G.edges(data=True))"
   ]
  },
  {
   "cell_type": "markdown",
   "metadata": {},
   "source": [
    "### Extracting attributes\n",
    "\n",
    "Using `nx.get_edge_attributes`, it's easy to extract the edge attributes in the graph into DataFrame columns."
   ]
  },
  {
   "cell_type": "code",
   "execution_count": null,
   "metadata": {},
   "outputs": [],
   "source": [
    "weight = list(nx.get_edge_attributes(G, 'weight').values())\n",
    "weight[:5]"
   ]
  },
  {
   "cell_type": "code",
   "execution_count": null,
   "metadata": {},
   "outputs": [],
   "source": [
    "# Remove weight from index\n",
    "df.index = [(edge[0], edge[1]) for edge in df.index]"
   ]
  },
  {
   "cell_type": "code",
   "execution_count": null,
   "metadata": {},
   "outputs": [],
   "source": [
    "df['weight'] = weight\n",
    "df.sample(3)"
   ]
  },
  {
   "cell_type": "markdown",
   "metadata": {},
   "source": [
    "### Creating edge based features\n",
    "\n",
    "Many of the networkx functions related to edges return a nested data structures. We can extract the relevant data using list comprehension."
   ]
  },
  {
   "cell_type": "code",
   "execution_count": null,
   "metadata": {},
   "outputs": [],
   "source": [
    "df['preferential attachment'] = [i[2] for i in nx.preferential_attachment(G, df.index)]\n",
    "df.sample(3)"
   ]
  },
  {
   "cell_type": "markdown",
   "metadata": {},
   "source": [
    "In the case where the function expects two nodes to be passed in, we can map the index to a lamda function."
   ]
  },
  {
   "cell_type": "code",
   "execution_count": null,
   "metadata": {},
   "outputs": [],
   "source": [
    "df['Common Neighbors'] = df.index.map(lambda city: len(list(nx.common_neighbors(G, city[0], city[1]))))\n",
    "df.sample(3)"
   ]
  },
  {
   "cell_type": "code",
   "execution_count": null,
   "metadata": {},
   "outputs": [],
   "source": []
  },
  {
   "cell_type": "code",
   "execution_count": null,
   "metadata": {},
   "outputs": [],
   "source": []
  }
 ],
 "metadata": {
  "language_info": {
   "name": "python",
   "pygments_lexer": "ipython3"
  }
 },
 "nbformat": 4,
 "nbformat_minor": 2
}
