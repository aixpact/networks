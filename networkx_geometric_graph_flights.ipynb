{
 "cells": [
  {
   "cell_type": "markdown",
   "metadata": {},
   "source": [
    "# Drawing flight routes with NetworkX"
   ]
  },
  {
   "cell_type": "markdown",
   "metadata": {},
   "source": [
    "### Import"
   ]
  },
  {
   "cell_type": "code",
   "execution_count": null,
   "metadata": {},
   "outputs": [],
   "source": [
    "import math\n",
    "import json\n",
    "import numpy as np\n",
    "import pandas as pd\n",
    "import networkx as nx\n",
    "import shapely\n",
    "import cartopy.crs as ccrs\n",
    "import matplotlib.pyplot as plt\n",
    "from IPython.display import Image\n",
    "\n",
    "%matplotlib inline"
   ]
  },
  {
   "cell_type": "code",
   "execution_count": null,
   "metadata": {},
   "outputs": [],
   "source": [
    "# Bug fix for cartopy:\n",
    "# https://github.com/conda-forge/cartopy-feedstock/issues/36\n",
    "# https://stackoverflow.com/questions/43649159/python-3-4-crashes-when-producing-some-but-not-all-cartopy-maps-with-segment\n",
    "# When using cartopy downgrade shapely to 1.5.17\n",
    "# !pip list | grep -i shap\n",
    "# !pip uninstall shapely; \n",
    "# !pip install --no-binary :all: shapely\n",
    "# !pip install shapely==1.5.17 --force-reinstall\n",
    "!pip list | grep -i shap"
   ]
  },
  {
   "cell_type": "markdown",
   "metadata": {},
   "source": [
    "### Data"
   ]
  },
  {
   "cell_type": "markdown",
   "metadata": {},
   "source": [
    "#### Flights"
   ]
  },
  {
   "cell_type": "code",
   "execution_count": null,
   "metadata": {},
   "outputs": [],
   "source": [
    "names = ('airline,airline_id,source,source_id,dest,dest_id,codeshare,stops,equipment').split(',')\n",
    "routes = pd.read_csv(\n",
    "    'https://github.com/ipython-books/'\n",
    "    'cookbook-2nd-data/blob/master/'\n",
    "    'routes.dat?raw=true',\n",
    "    names=names,\n",
    "    header=None)\n",
    "routes.sample(3)"
   ]
  },
  {
   "cell_type": "markdown",
   "metadata": {},
   "source": [
    "#### Airports\n",
    "\n",
    "The DataFrame index is the IATA code, a 3-characters code identifying the airports."
   ]
  },
  {
   "cell_type": "code",
   "execution_count": null,
   "metadata": {},
   "outputs": [],
   "source": [
    "names = ('id,name,city,country,iata,icao,lat,lon,'\n",
    "         'alt,timezone,dst,tz,type,source').split(',')\n",
    "airports = pd.read_csv(\n",
    "    'https://github.com/ipython-books/'\n",
    "    'cookbook-2nd-data/blob/master/'\n",
    "    'airports.dat?raw=true',\n",
    "    header=None,\n",
    "    names=names,\n",
    "    index_col=4,\n",
    "    na_values='\\\\N')\n",
    "airports_us = airports[airports['country'] ==\n",
    "                       'United States']\n",
    "airports_us.sample()"
   ]
  },
  {
   "cell_type": "markdown",
   "metadata": {},
   "source": [
    "#### Cities with over 300k citizens\n",
    "\n",
    "<div class='source'> source: https://data.london.gov.uk/dataset/global-city-population-estimates</div>"
   ]
  },
  {
   "cell_type": "code",
   "execution_count": null,
   "metadata": {},
   "outputs": [],
   "source": [
    "cities = pd.read_excel('../_data/global-city-population-estimates.xlsx', 'CITIES-OVER-300K')\n",
    "cities.sample(5)\n",
    "cities_dict = cities[['Urban Agglomeration', '2015']].set_index('Urban Agglomeration').to_dict()['2015']\n",
    "cities_dict;"
   ]
  },
  {
   "cell_type": "code",
   "execution_count": null,
   "metadata": {},
   "outputs": [],
   "source": [
    "cities = pd.read_csv('../_data/airports.csv')\n",
    "cities.sample(5)\n",
    "# cities_dict = cities[['Urban Agglomeration', '2015']].set_index('Urban Agglomeration').to_dict()['2015']\n",
    "# cities_dict"
   ]
  },
  {
   "cell_type": "code",
   "execution_count": null,
   "metadata": {},
   "outputs": [],
   "source": [
    "\n",
    "\n",
    "# http://ourairports.com/data/"
   ]
  },
  {
   "cell_type": "markdown",
   "metadata": {},
   "source": [
    "#### Missing values"
   ]
  },
  {
   "cell_type": "code",
   "execution_count": null,
   "metadata": {},
   "outputs": [],
   "source": [
    "airports.isnull().sum()\n",
    "airports.isnull().any().sum()"
   ]
  },
  {
   "cell_type": "code",
   "execution_count": null,
   "metadata": {},
   "outputs": [],
   "source": [
    "airports = airports.dropna()"
   ]
  },
  {
   "cell_type": "code",
   "execution_count": null,
   "metadata": {},
   "outputs": [],
   "source": [
    "airports.sample()"
   ]
  },
  {
   "cell_type": "markdown",
   "metadata": {},
   "source": [
    "#### DataFrame to dictionary - key is index\n",
    "\n",
    "- Lookup for geo location  \n",
    "- Drops NaN's from index!"
   ]
  },
  {
   "cell_type": "code",
   "execution_count": null,
   "metadata": {},
   "outputs": [],
   "source": [
    "airport_geo = airports[['lon', 'lat']].to_dict('index') #.items()\n",
    "airport_geo['GKA']['lon'], airport_geo['GKA']['lat']"
   ]
  },
  {
   "cell_type": "markdown",
   "metadata": {},
   "source": [
    "### Create graph"
   ]
  },
  {
   "cell_type": "markdown",
   "metadata": {},
   "source": [
    "#### Filter data\n",
    "\n",
    "Let's keep all national US flight routes (source and the destination airports belong to the list of US airports)"
   ]
  },
  {
   "cell_type": "code",
   "execution_count": null,
   "metadata": {},
   "outputs": [],
   "source": [
    "routes_us = routes[\n",
    "    routes['source'].isin(airports_us.index) & routes['dest'].isin(airports_us.index)]\n",
    "routes_us.sample()"
   ]
  },
  {
   "cell_type": "markdown",
   "metadata": {},
   "source": [
    "### Frequency table"
   ]
  },
  {
   "cell_type": "code",
   "execution_count": null,
   "metadata": {},
   "outputs": [],
   "source": [
    "def pivot(y, y_pred, labels=['Negative', 'Positive']):\n",
    "    dict_labels = {k:v for k, v in zip(np.unique(y), labels)}\n",
    "    try:\n",
    "        y_name, y_pred_name = y.name, y_pred.name\n",
    "    except:\n",
    "        y_name, y_pred_name = 'True label', 'Predicted label'\n",
    "    df = pd.DataFrame({y_name: y, y_pred_name: y_pred})  \n",
    "    df.replace(to_replace=dict_labels, inplace=True)\n",
    "    return df.groupby([y_name, y_pred_name]).size().unstack(y_pred_name).fillna(0)"
   ]
  },
  {
   "cell_type": "code",
   "execution_count": null,
   "metadata": {},
   "outputs": [],
   "source": [
    "flight_freq = pivot(routes_us.source, routes_us.dest)\n",
    "flight_freq.head()\n",
    "flight_freq['DEC'].sum()"
   ]
  },
  {
   "cell_type": "markdown",
   "metadata": {},
   "source": [
    "#### Frequency counter"
   ]
  },
  {
   "cell_type": "code",
   "execution_count": null,
   "metadata": {},
   "outputs": [],
   "source": [
    "from collections import Counter\n",
    "flights_from = Counter(routes_us.source)\n",
    "flights_to = Counter(routes_us.dest)\n",
    "flights_from_to = flights_from + flights_to\n",
    "flights_from_to.most_common(5)"
   ]
  },
  {
   "cell_type": "markdown",
   "metadata": {},
   "source": [
    "#### Sanity check NaN"
   ]
  },
  {
   "cell_type": "code",
   "execution_count": null,
   "metadata": {},
   "outputs": [],
   "source": [
    "routes_us.isnull().sum()"
   ]
  },
  {
   "cell_type": "markdown",
   "metadata": {},
   "source": [
    "#### Construct the list of edges representing our graph\n",
    "\n",
    " - nodes are airports\n",
    " - two airports are connected if there exists a route between them (flight network)"
   ]
  },
  {
   "cell_type": "code",
   "execution_count": null,
   "metadata": {},
   "outputs": [],
   "source": [
    "edges = routes_us[['source', 'dest']].values\n",
    "edges"
   ]
  },
  {
   "cell_type": "markdown",
   "metadata": {},
   "source": [
    "#### Create the networkX graph from the edges array"
   ]
  },
  {
   "cell_type": "code",
   "execution_count": null,
   "metadata": {},
   "outputs": [],
   "source": [
    "g = nx.from_edgelist(edges)\n",
    "g.edges();"
   ]
  },
  {
   "cell_type": "markdown",
   "metadata": {},
   "source": [
    "#### Graph's statistics\n",
    "\n",
    "- There are 546 US airports and 2781 routes in the dataset."
   ]
  },
  {
   "cell_type": "code",
   "execution_count": null,
   "metadata": {},
   "outputs": [],
   "source": [
    "print(nx.info(g))"
   ]
  },
  {
   "cell_type": "markdown",
   "metadata": {},
   "source": [
    "### Visualise graph"
   ]
  },
  {
   "cell_type": "code",
   "execution_count": null,
   "metadata": {},
   "outputs": [],
   "source": [
    "fig, ax = plt.subplots(1, 1, figsize=(18, 10))\n",
    "nx.draw_networkx(g, ax=ax, node_size=5, font_size=6, alpha=.5, width=.5)\n",
    "ax.set_axis_off()"
   ]
  },
  {
   "cell_type": "markdown",
   "metadata": {},
   "source": [
    "### Improve visualisation"
   ]
  },
  {
   "cell_type": "markdown",
   "metadata": {},
   "source": [
    "#### Connected subgraphs\n",
    "\n",
    "There are a few airports that are not connected to the rest of the airports. \n",
    "\n",
    "We keep the largest connected component of the graph as follows:\n",
    " - the subgraphs returned by connected_component_subgraphs() are sorted by decreasing size"
   ]
  },
  {
   "cell_type": "code",
   "execution_count": null,
   "metadata": {},
   "outputs": [],
   "source": [
    "sg = next(nx.connected_component_subgraphs(g))"
   ]
  },
  {
   "cell_type": "markdown",
   "metadata": {},
   "source": [
    "#### Visualise largest connected component subgraph\n",
    "\n",
    "The graph encodes only the topology (connections between the airports) and not the geometry (actual positions of the airports on a map). Airports at the center of the graph are the largest US airports."
   ]
  },
  {
   "cell_type": "code",
   "execution_count": null,
   "metadata": {},
   "outputs": [],
   "source": [
    "fig, ax = plt.subplots(1, 1, figsize=(6, 6))\n",
    "nx.draw_networkx(sg, ax=ax, with_labels=False, node_size=5, width=.5)\n",
    "ax.set_axis_off()"
   ]
  },
  {
   "cell_type": "markdown",
   "metadata": {},
   "source": [
    "#### Draw options\n",
    "\n",
    "Graphs can be drawn in different ways, see what layouts are available in networkX"
   ]
  },
  {
   "cell_type": "code",
   "execution_count": null,
   "metadata": {},
   "outputs": [],
   "source": [
    "layouts = [eval('nx.'+x) for x in nx.__dir__() if x.endswith('_layout')]\n",
    "layouts"
   ]
  },
  {
   "cell_type": "code",
   "execution_count": null,
   "metadata": {},
   "outputs": [],
   "source": [
    "# Draw the graph using the random layout\n",
    "for layout in layouts:\n",
    "    if layout == nx.rescale_layout: continue\n",
    "    _ = plt.figure(figsize=(8,7))\n",
    "    pos = layout(sg)\n",
    "    _ = nx.draw_networkx(sg, pos);\n",
    "    _ = plt.gca().set_title(str(layout.__name__));"
   ]
  },
  {
   "cell_type": "markdown",
   "metadata": {},
   "source": [
    "#### Add geo location(lat lon) to nodes"
   ]
  },
  {
   "cell_type": "code",
   "execution_count": null,
   "metadata": {},
   "outputs": [],
   "source": [
    "ap_loc = {iata:(airport_geo[iata]['lon'], airport_geo[iata]['lat']) for iata in airports_us.index if iata in list(sg.nodes())}"
   ]
  },
  {
   "cell_type": "code",
   "execution_count": null,
   "metadata": {},
   "outputs": [],
   "source": [
    "_ = [sg.add_node(airport, location=geo) for airport, geo in ap_loc.items()]"
   ]
  },
  {
   "cell_type": "code",
   "execution_count": null,
   "metadata": {},
   "outputs": [],
   "source": [
    "list(sg.nodes(data=True))[:5]"
   ]
  },
  {
   "cell_type": "markdown",
   "metadata": {},
   "source": [
    "#### Visualise graph geographically"
   ]
  },
  {
   "cell_type": "code",
   "execution_count": null,
   "metadata": {},
   "outputs": [],
   "source": [
    "# Draw the graph using custom node positions\n",
    "plt.figure(figsize=(20,12))\n",
    "\n",
    "pos = nx.get_node_attributes(sg, 'location')\n",
    "nx.draw_networkx(sg, pos);"
   ]
  },
  {
   "cell_type": "code",
   "execution_count": null,
   "metadata": {},
   "outputs": [],
   "source": [
    "# Draw the graph adding alpha, removing labels, and softening edge color\n",
    "plt.figure(figsize=(20,12))\n",
    "\n",
    "nx.draw_networkx(sg, pos, \n",
    "                 node_color='b',\n",
    "                 alpha=0.5, \n",
    "                 with_labels=False, \n",
    "                 edge_color='.4')\n",
    "plt.axis('off')\n",
    "plt.tight_layout();"
   ]
  },
  {
   "cell_type": "markdown",
   "metadata": {},
   "source": [
    "#### Add flight frequency between cities to nodes"
   ]
  },
  {
   "cell_type": "code",
   "execution_count": null,
   "metadata": {},
   "outputs": [],
   "source": [
    "ap_loc = {iata:(airport_geo[iata]['lon'], airport_geo[iata]['lat']) for iata in airports_us.index if iata in list(sg.nodes())}"
   ]
  },
  {
   "cell_type": "code",
   "execution_count": null,
   "metadata": {},
   "outputs": [],
   "source": [
    "_ = [sg.add_node(airport, frequency=freq) for airport, freq in flights_from_to.items()if airport in list(sg.nodes())]"
   ]
  },
  {
   "cell_type": "code",
   "execution_count": null,
   "metadata": {},
   "outputs": [],
   "source": [
    "list(sg.nodes(data=True))[:5]"
   ]
  },
  {
   "cell_type": "code",
   "execution_count": null,
   "metadata": {},
   "outputs": [],
   "source": [
    "from collections import Counter\n",
    "Counter(sorted([(u,v) for (u,v,d) in sg.edges(data=True)])).most_common(10)"
   ]
  },
  {
   "cell_type": "code",
   "execution_count": null,
   "metadata": {},
   "outputs": [],
   "source": [
    "sg.number_of_edges('ABE', 'SFB')"
   ]
  },
  {
   "cell_type": "markdown",
   "metadata": {},
   "source": [
    "#### Extracting attributes\n",
    "\n",
    "Using `nx.get_node_attributes` it's easy to extract the node attributes in the graph into DataFrame columns."
   ]
  },
  {
   "cell_type": "code",
   "execution_count": null,
   "metadata": {},
   "outputs": [],
   "source": [
    "pd.Series(nx.get_node_attributes(sg, 'frequency')).head()"
   ]
  },
  {
   "cell_type": "markdown",
   "metadata": {},
   "source": [
    "#### Set node size\n",
    "\n",
    "The node sizes will depend on the degree of the nodes(# of airports connected to every node)"
   ]
  },
  {
   "cell_type": "code",
   "execution_count": null,
   "metadata": {},
   "outputs": [],
   "source": [
    "node_size = [nx.get_node_attributes(sg, 'frequency')[v] for v in sg]"
   ]
  },
  {
   "cell_type": "markdown",
   "metadata": {},
   "source": [
    "#### Set node color\n",
    "\n",
    "The node color depends on the node degree."
   ]
  },
  {
   "cell_type": "code",
   "execution_count": null,
   "metadata": {},
   "outputs": [],
   "source": [
    "deg = nx.degree(sg) # == {v: sg.degree(v) for v in sg}\n",
    "node_color = [deg[iata] for iata in sg.nodes]\n",
    "# or\n",
    "node_color = [sg.degree(n) for n in sg]\n",
    "node_color = [10*nc/max(node_color) for nc in node_color]\n",
    "node_color;"
   ]
  },
  {
   "cell_type": "markdown",
   "metadata": {},
   "source": [
    "The node color depends on theclustering coefficient."
   ]
  },
  {
   "cell_type": "code",
   "execution_count": null,
   "metadata": {},
   "outputs": [],
   "source": [
    "node_color = [10*(1-c) for c in nx.clustering(sg).values()]\n",
    "node_color;"
   ]
  },
  {
   "cell_type": "markdown",
   "metadata": {},
   "source": [
    "#### Set labels\n",
    "\n",
    "We will display the labels of the largest airports only (at least 20 connections to other US airports)"
   ]
  },
  {
   "cell_type": "code",
   "execution_count": null,
   "metadata": {},
   "outputs": [],
   "source": [
    "labels = {iata: iata if deg[iata] >= 70 else '' for iata in sg.nodes}"
   ]
  },
  {
   "cell_type": "markdown",
   "metadata": {},
   "source": [
    "#### Select nodes"
   ]
  },
  {
   "cell_type": "code",
   "execution_count": null,
   "metadata": {},
   "outputs": [],
   "source": [
    "min_freq = 200\n",
    "nodes = [n[0] for n in sg.nodes(data=True) if n[1]['frequency'] > min_freq]"
   ]
  },
  {
   "cell_type": "markdown",
   "metadata": {},
   "source": [
    "#### Set edge width"
   ]
  },
  {
   "cell_type": "code",
   "execution_count": null,
   "metadata": {},
   "outputs": [],
   "source": [
    "edge_width = [0.002*nx.get_node_attributes(sg, 'frequency')[n] for n in sg]"
   ]
  },
  {
   "cell_type": "markdown",
   "metadata": {},
   "source": [
    "#### Draw graph"
   ]
  },
  {
   "cell_type": "code",
   "execution_count": null,
   "metadata": {},
   "outputs": [],
   "source": [
    "# Draw graph with varying node color, node size, and edge width\n",
    "plt.figure(figsize=(20,12))\n",
    "\n",
    "nx.draw_networkx_nodes(sg, pos, \n",
    "                       nodelist=nodes,\n",
    "                       node_size=node_size, \n",
    "                       node_color='b',\n",
    "                       alpha=0.1,\n",
    "                       with_labels=False, \n",
    "                       width=edge_width, \n",
    "                       edge_color='.1',\n",
    "                       cmap=plt.cm.Blues)\n",
    "\n",
    "nx.draw_networkx(sg, pos,\n",
    "                 node_size=node_size, \n",
    "                 node_color=node_color, \n",
    "                 alpha=0.6, \n",
    "                 with_labels=False, \n",
    "                 width=edge_width, \n",
    "                 edge_color='.4',\n",
    "                 cmap=plt.cm.Blues)\n",
    "\n",
    "nx.draw_networkx_labels(sg, pos, labels=labels,font_size=16,font_color='b')\n",
    "\n",
    "plt.axis('off')\n",
    "plt.tight_layout();"
   ]
  },
  {
   "cell_type": "markdown",
   "metadata": {},
   "source": [
    "### Finally Draw the graph on a geographical map\n",
    "\n",
    "Create a dictionary:\n",
    " - keys: airports IATA code\n",
    " - value: geometric coordinates"
   ]
  },
  {
   "cell_type": "code",
   "execution_count": null,
   "metadata": {},
   "outputs": [],
   "source": [
    "# pos = {airport: (v['lon'], v['lat']) for airport, v in airports_us.to_dict('index').items()}"
   ]
  },
  {
   "cell_type": "markdown",
   "metadata": {},
   "source": [
    "#### Use cartopy to project the points on the map:"
   ]
  },
  {
   "cell_type": "code",
   "execution_count": null,
   "metadata": {},
   "outputs": [],
   "source": [
    "# Map projection\n",
    "crs = ccrs.PlateCarree()  #Mercator() #Geodetic() #Mollweide() #PlateCarree()"
   ]
  },
  {
   "cell_type": "code",
   "execution_count": null,
   "metadata": {},
   "outputs": [],
   "source": [
    "fig, ax = plt.subplots(1, 1, figsize=(20, 20), subplot_kw=dict(projection=crs))\n",
    "ax.coastlines()\n",
    "\n",
    "# Extent of continental US. (l,r,b,t)\n",
    "ax.set_extent([-125, -65, 20, 50])\n",
    "ax.axis('off')\n",
    "\n",
    "nx.draw_networkx(sg, ax=ax,\n",
    "                 font_size=8,\n",
    "                 alpha=.5,\n",
    "                 width=edge_width,\n",
    "                 node_size=20*node_size,\n",
    "                 pos=pos,\n",
    "                 node_color=node_color,\n",
    "                 cmap=plt.cm.Blues);\n",
    "label_pos = {k: (v[0], v[1]+1) for k, v in pos.items()}\n",
    "\n",
    "nx.draw_networkx_labels(sg, label_pos, labels=labels, font_size=16, font_color='k');"
   ]
  },
  {
   "cell_type": "code",
   "execution_count": null,
   "metadata": {},
   "outputs": [],
   "source": []
  },
  {
   "cell_type": "code",
   "execution_count": null,
   "metadata": {},
   "outputs": [],
   "source": []
  }
 ],
 "metadata": {
  "language_info": {
   "name": "python",
   "pygments_lexer": "ipython3"
  }
 },
 "nbformat": 4,
 "nbformat_minor": 2
}
