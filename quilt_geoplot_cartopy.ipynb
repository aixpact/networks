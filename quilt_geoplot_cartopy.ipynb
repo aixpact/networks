{
 "cells": [
  {
   "cell_type": "markdown",
   "metadata": {},
   "source": [
    "# Quickstart\n",
    "\n",
    "The starting point for geospatial analysis is geospatial data. ``geoplot`` is designed to work with ``geopandas`` ``GeoDataFrame`` data. "
   ]
  },
  {
   "cell_type": "markdown",
   "metadata": {},
   "source": [
    "## Geospatial data"
   ]
  },
  {
   "cell_type": "code",
   "execution_count": null,
   "metadata": {},
   "outputs": [],
   "source": [
    "import geopandas as gpd\n",
    "import geoplot as gplt\n",
    "\n",
    "# Only necessary if working in a Jupyter environment.\n",
    "%matplotlib inline"
   ]
  },
  {
   "cell_type": "markdown",
   "metadata": {},
   "source": [
    "If you've never seen a ``GeoDataFrame``, it is quite simple: it's just a ``pandas`` ``DataFrame`` with a column reserved for ``geometry``. This column contains a list of ``shapely.geometry`` objects describing the physical nature of the record in question: a point in space, or a state shaped polygon, and so on."
   ]
  },
  {
   "cell_type": "code",
   "execution_count": null,
   "metadata": {},
   "outputs": [],
   "source": [
    "# Unclutter the display.\n",
    "import pandas as pd; pd.set_option('max_columns', 6)\n",
    "\n",
    "# Load and display some example data.\n",
    "# All of the examples in this notebook use the `quilt` package to do this.\n",
    "from quilt.data.ResidentMario import geoplot_data\n",
    "continental_cities = gpd.read_file(geoplot_data.usa_cities()).query('POP_2010 > 100000')\n",
    "contiguous_usa = gpd.read_file(geoplot_data.contiguous_usa())\n",
    "continental_cities.head()"
   ]
  },
  {
   "cell_type": "markdown",
   "metadata": {},
   "source": [
    "## Plotting your data"
   ]
  },
  {
   "cell_type": "markdown",
   "metadata": {},
   "source": [
    "We can easily plot all of these cities on a map using the ``geoplot`` ``pointplot`` functionality. However, points in space are hard to interpret. To add geospatial context, we'll overlay United States state shapes as well, using the ``polyplot`` function."
   ]
  },
  {
   "cell_type": "code",
   "execution_count": null,
   "metadata": {},
   "outputs": [],
   "source": [
    "ax = gplt.pointplot(continental_cities)\n",
    "gplt.polyplot(contiguous_usa, ax=ax)"
   ]
  },
  {
   "cell_type": "markdown",
   "metadata": {},
   "source": [
    "There we go, our first ``geoplot`` plot! \n",
    "\n",
    "Unfortunately this map of the United States looks very strange. \n",
    "\n",
    "The Earth, being a sphere, is impossible to potray in two dimensionals. Hence, whenever we take data off the sphere and place it onto a webmap, we are using some kind of \"projection\", or method of flattening the sphere. In this case we plotted the dataset coordinates carte blanche&mdash;a really lousy projection!\n",
    "\n",
    "We can \"fix\" the distortion by using an appropriate projection. The Albers equal area projection is one most common in the United States. To use it in ``geoplot``, here's what you do:"
   ]
  },
  {
   "cell_type": "code",
   "execution_count": null,
   "metadata": {},
   "outputs": [],
   "source": [
    "import geoplot.crs as gcrs\n",
    "\n",
    "proj = gcrs.AlbersEqualArea()\n",
    "# proj = gcrs.AlbersEqualArea(central_longitude=-98, central_latitude=39.5)\n",
    "\n",
    "ax = gplt.polyplot(contiguous_usa, projection=proj)\n",
    "gplt.pointplot(continental_cities, ax=ax, projection=proj)"
   ]
  },
  {
   "cell_type": "markdown",
   "metadata": {},
   "source": [
    "This looks much better than our first plot! In fact, this is the version of the United States that you'll probably most often see in maps; and it's just one of [dozens of projections](http://scitools.org.uk/cartopy/docs/latest/crs/projections.html) provided in the ``geoplot.crs`` (shorthand ``gcrs``) namespace.\n",
    "\n",
    "Of course, ``geoplot`` has many options for customization. A much fancier version of this plot follows."
   ]
  },
  {
   "cell_type": "code",
   "execution_count": null,
   "metadata": {},
   "outputs": [],
   "source": [
    "import matplotlib.pyplot as plt\n",
    "\n",
    "proj = gcrs.AlbersEqualArea(central_longitude=-98, central_latitude=39.5)\n",
    "\n",
    "ax = gplt.polyplot(contiguous_usa, \n",
    "                   projection=proj,\n",
    "                   zorder=-1,  # Place the state shapes BELOW the cities.\n",
    "                   linewidth=0.5,  # Make the state borders very thin.\n",
    "                   figsize=(12, 12))  # Make the figure bigger.\n",
    "\n",
    "gplt.pointplot(continental_cities, \n",
    "               scale='POP_2010',  # Set circle size based on population...\n",
    "               limits=(1, 80),  # ...with the biggest 80 times the smallest.\n",
    "               hue='POP_2010',  # Changing the color with population, too...\n",
    "               cmap='Blues',  # ...more blue, more people...\n",
    "               k=5,  # but let's limit ourselves to five \"classes\" of city sizes.\n",
    "               linewidth=0.5,  # Circle borders are thin...\n",
    "               edgecolor='black',  # ...and black.\n",
    "               legend=True,  # Show a legend...\n",
    "               legend_var='scale',  # ...based on circle size...\n",
    "               legend_values=[8000000, 6000000, 4000000, 2000000, 100000],\n",
    "               legend_labels=['8 million', '6 million', '4 million',\n",
    "                              '2 million', '100 thousand'],  # ...with these five values...\n",
    "               legend_kwargs={'frameon': False, 'loc': 'lower right'},  # ...on the lower right!\n",
    "               ax=ax, projection=proj)\n",
    "\n",
    "ax.set_ylim((-1597757, 1457718)); pass\n",
    "\n",
    "plt.title(\"Cities in the contiguous United States, 2010\")  # Add a title!"
   ]
  },
  {
   "cell_type": "markdown",
   "metadata": {},
   "source": [
    "As you can see, we can generate some very pretty plots!\n",
    "\n",
    "There are a few variables used here that are particularly worth pointing out.\n",
    "\n",
    "First of all, note that this map is a double visual variable plot: the *size* and *color* of each circle equivalently present useful information about the marked city. The former is controlled by the ``scale``, and the latter, the ``hue``; both reference the ``POP_2010`` column in the dataset.\n",
    "\n",
    "Second of all, note that we specify ``k=5``. This parameter controls how many \"bins\" of color are in the dataset. Because of this parameter, this plot categories all of the cities into one of five colors, with an approximately equivalent number of cities in each category. In your own work, you can choose to use more categories, or even none at all (by specifying ``k=None``)! Five just happened to work well for this particular dataset.\n",
    "\n",
    "Finally, it's worth pointing out that the ``geoplot`` types have (broadly) the same parameters, so most of the parameters you see here will work in any of them."
   ]
  },
  {
   "cell_type": "markdown",
   "metadata": {},
   "source": [
    "## More plot options\n",
    "\n",
    "For ease of use, before continuing, let's preload all of the example data we will use in this short walkthrough."
   ]
  },
  {
   "cell_type": "code",
   "execution_count": null,
   "metadata": {},
   "outputs": [],
   "source": [
    "import matplotlib.pyplot as plt\n",
    "\n",
    "collisions = gpd.read_file(geoplot_data.nyc_collision_factors())\n",
    "boroughs = gpd.read_file(geoplot_data.nyc_boroughs())\n",
    "census_tracts = gpd.read_file(geoplot_data.ny_census_partial())\n",
    "percent_white = census_tracts['WHITE'] / census_tracts['POP2000']\n",
    "obesity = geoplot_data.obesity_by_state()\n",
    "contiguous_usa = gpd.read_file(geoplot_data.contiguous_usa())\n",
    "contiguous_usa['Obesity Rate'] = contiguous_usa['State'].map(\n",
    "    lambda state: obesity.query(\"State == @state\").iloc[0]['Percent']\n",
    ")\n",
    "la_flights = gpd.read_file(geoplot_data.la_flights())\n",
    "la_flights = la_flights.assign(\n",
    "    start=la_flights.geometry.map(lambda mp: mp[0]),\n",
    "    end=la_flights.geometry.map(lambda mp: mp[1]))"
   ]
  },
  {
   "cell_type": "markdown",
   "metadata": {},
   "source": [
    "With that done, let's take a look at some other plot types.\n",
    "\n",
    "If you have a lot of points, too many to useful plot one-at-a-time, you can aggregate them using a ``kdeplot``. This provides a nice understanding of density:"
   ]
  },
  {
   "cell_type": "code",
   "execution_count": null,
   "metadata": {},
   "outputs": [],
   "source": [
    "collisions = gpd.read_file(geoplot_data.nyc_collision_factors())\n",
    "boroughs = gpd.read_file(geoplot_data.nyc_boroughs())\n",
    "\n",
    "ax = gplt.kdeplot(collisions, \n",
    "                  projection=gcrs.AlbersEqualArea(), \n",
    "                  shade=True,  # Shade the areas or draw relief lines?\n",
    "                  shade_lowest=False,  # Don't shade near-zeros.\n",
    "                  clip=boroughs.geometry,  # Constrain the heatmap to this area.\n",
    "                  figsize=(12,12))\n",
    "gplt.polyplot(boroughs, projection=gcrs.AlbersEqualArea(), ax=ax)"
   ]
  },
  {
   "cell_type": "markdown",
   "metadata": {},
   "source": [
    "A similar effect can be achieved using fewer points with the ``voronoi``:"
   ]
  },
  {
   "cell_type": "code",
   "execution_count": null,
   "metadata": {},
   "outputs": [],
   "source": [
    "boroughs = gpd.read_file(geoplot_data.nyc_boroughs())\n",
    "injurious_collisions = gpd.read_file(geoplot_data.nyc_injurious_collisions())\n",
    "\n",
    "import geoplot as gplt\n",
    "\n",
    "ax = gplt.voronoi(injurious_collisions.head(1000), \n",
    "                  hue='NUMBER OF PERSONS INJURED', cmap='Reds',\n",
    "                  edgecolor='white', clip=boroughs.geometry,\n",
    "                  linewidth=0.5, categorical=True, \n",
    "                  projection=gcrs.AlbersEqualArea(), \n",
    "                  figsize=(12,12))\n",
    "gplt.polyplot(boroughs, linewidth=1, projection=gcrs.AlbersEqualArea(), ax=ax)"
   ]
  },
  {
   "cell_type": "markdown",
   "metadata": {},
   "source": [
    "Not all geometric data has to be point data, of course. The second most common type of geometric data is shapes: things like states, counties, survey areas, and so on. The most immediate tool for visualing data that comes attached to shapes such as these is the ``choropleth``:"
   ]
  },
  {
   "cell_type": "code",
   "execution_count": null,
   "metadata": {},
   "outputs": [],
   "source": [
    "census_tracts = gpd.read_file(geoplot_data.ny_census_partial())\n",
    "percent_white = census_tracts['WHITE'] / census_tracts['POP2000']\n",
    "\n",
    "gplt.choropleth(census_tracts, \n",
    "                hue=percent_white,  # Display data, passed as a Series\n",
    "                projection=gcrs.AlbersEqualArea(),\n",
    "                cmap='Purples', \n",
    "                linewidth=0.5, \n",
    "                k=None,  # Do not bin our counties.\n",
    "                legend=True,\n",
    "                figsize=(12, 12))"
   ]
  },
  {
   "cell_type": "markdown",
   "metadata": {},
   "source": [
    "Note how we used ``k=None`` in this example, to show just how anomalous New York City is!\n",
    "\n",
    "You can display the same data by oftesetting the size of the geometry with how strong the effect is. This is a ``cartogram``:"
   ]
  },
  {
   "cell_type": "code",
   "execution_count": null,
   "metadata": {},
   "outputs": [],
   "source": [
    "gplt.cartogram(contiguous_usa, scale='Obesity Rate',\n",
    "               projection=gcrs.AlbersEqualArea(central_longitude=-98, central_latitude=39.5),\n",
    "               limits=(0.75, 1),\n",
    "               linewidth=0.5, \n",
    "               facecolor='Tomato',\n",
    "               trace_kwargs={'linewidth': 0.5},\n",
    "               figsize=(12, 12))"
   ]
  },
  {
   "cell_type": "markdown",
   "metadata": {},
   "source": [
    "Occassionally you may want to describe a network: traffic movements between cities, for example, of the flow of immigrantion between different countries. For this you can use the ``sankey`` plot. The following plot demos what this looks like for flights out of Los Angeles:"
   ]
  },
  {
   "cell_type": "code",
   "execution_count": null,
   "metadata": {},
   "outputs": [],
   "source": [
    "gplt.sankey(la_flights, start='start', end='end', \n",
    "            projection=gcrs.Orthographic(), \n",
    "            scale='Passengers', hue='Passengers', \n",
    "            cmap='Purples', figsize=(9, 9))\n",
    "ax = plt.gca()\n",
    "ax.set_global()\n",
    "ax.outline_patch.set_visible(True)\n",
    "ax.coastlines()"
   ]
  },
  {
   "cell_type": "markdown",
   "metadata": {},
   "source": [
    "This plot also happens to demonstrate that your projection need not be two-dimensional, as ``geoplot`` also provides two different globe projections.\n",
    "\n",
    "There are other mapping options in ``geoplot``, and many more cool features to explore. But these are the most important ones, and enough to get you started."
   ]
  },
  {
   "cell_type": "markdown",
   "metadata": {},
   "source": [
    "## More on geospatial data\n",
    "\n",
    "So far in all of these examples the data has \"just appeared\" in the right format. Let's now put paid to what \"right format\" means. Recall our ``GeoDataFrame`` example from the start:"
   ]
  },
  {
   "cell_type": "code",
   "execution_count": null,
   "metadata": {},
   "outputs": [],
   "source": [
    "continental_cities.head()"
   ]
  },
  {
   "cell_type": "markdown",
   "metadata": {},
   "source": [
    "A ``GeoDataFrame`` contains ``shapely`` geometries in the ``geometry`` column. In this case, we can inspect an entry to see that we have a ``Point`` element:"
   ]
  },
  {
   "cell_type": "code",
   "execution_count": null,
   "metadata": {},
   "outputs": [],
   "source": [
    "type(continental_cities.geometry.iloc[0])"
   ]
  },
  {
   "cell_type": "markdown",
   "metadata": {},
   "source": [
    "[``shapely``](https://toblerity.org/shapely/manual.html) is the underlying geospatial data definitions and operations library. A valid ``GeoDataFrame`` provides a valid ``shapely.geometry`` object (or a ``NaN``) for every record in the dataset.\n",
    "\n",
    "So how do you get data in this format?\n",
    "\n",
    "There are a number of data formats specific to geospatial data&mdash;things like ``SHP``, ``GeoJSON``, and ``KML``&mdash;which ``geopandas`` can read in directly. In this case you can read the data into memory with something like so:"
   ]
  },
  {
   "cell_type": "code",
   "execution_count": null,
   "metadata": {},
   "outputs": [],
   "source": [
    "path_to_file = geoplot_data.contiguous_usa()\n",
    "gpd.read_file(path_to_file).head()"
   ]
  },
  {
   "cell_type": "markdown",
   "metadata": {},
   "source": [
    "You can proceed to plotting things from there.\n",
    "\n",
    "Alternatively, you may need or want to generate the geometry yourself. The majority of datasets are served in non-geospatial formats, like ``CSV`` and ``XLS`` files. But these datasets often *contain* geospatial information: latitude and longitude, for example (point data); or references to the counties or states or neighborhoods that the record occurs in (polygonal data).\n",
    "\n",
    "In these cases, you'll need to do some processing work to unlock your data's geospatial context. For example, suppose we've the following data:"
   ]
  },
  {
   "cell_type": "code",
   "execution_count": null,
   "metadata": {},
   "outputs": [],
   "source": [
    "collisions = gpd.read_file(geoplot_data.nyc_collision_factors())\n",
    "cols = ['LATITUDE', 'LONGITUDE', 'DATE', 'TIME']\n",
    "collisions = pd.DataFrame(collisions.loc[:, cols].values, columns=cols)\n",
    "collisions.head()"
   ]
  },
  {
   "cell_type": "markdown",
   "metadata": {},
   "source": [
    "This is an example of a ``pandas`` ``DataFrame``:"
   ]
  },
  {
   "cell_type": "code",
   "execution_count": null,
   "metadata": {},
   "outputs": [],
   "source": [
    "type(collisions)"
   ]
  },
  {
   "cell_type": "markdown",
   "metadata": {},
   "source": [
    "To convert this to a ``GeoDataFrame``, we isolate the geometry..."
   ]
  },
  {
   "cell_type": "code",
   "execution_count": null,
   "metadata": {},
   "outputs": [],
   "source": [
    "from shapely.geometry import Point\n",
    "\n",
    "geometry = collisions.apply(\n",
    "    lambda collision: Point(float(collision['LONGITUDE']), float(collision['LATITUDE'])), \n",
    "    axis='columns'\n",
    ")\n",
    "geometry.head()"
   ]
  },
  {
   "cell_type": "markdown",
   "metadata": {},
   "source": [
    "...and assign that to the ``GeoDataFrame``. Once that's done, we have what we want:"
   ]
  },
  {
   "cell_type": "code",
   "execution_count": null,
   "metadata": {},
   "outputs": [],
   "source": [
    "collision_points = gpd.GeoDataFrame(collisions, geometry=geometry)\n",
    "collision_points.head()"
   ]
  },
  {
   "cell_type": "code",
   "execution_count": null,
   "metadata": {},
   "outputs": [],
   "source": [
    "type(collision_points)"
   ]
  },
  {
   "cell_type": "markdown",
   "metadata": {},
   "source": [
    "Not all such processing jobs will be this easy. But it should usually be relatively simple to do and gives you access to a whole other ecosystem of useful tools!\n",
    "\n",
    "<!--\n",
    "In these cases, you can read the data into a ``pandas`` ``DataFrame`` using that library's file-reading features. Then you need to stitch the geospatial context back together. If your dataset contains latitudes and longitudes, you can use ``shapely`` to create new ``Point`` objects for your records. If your dataset contains named references to regions of some kind, you will need to work a little harder: you need to aggregate your dataset into regions, and join your dataset against a geospatial dataset containing regional definitions.\n",
    "-->"
   ]
  },
  {
   "cell_type": "markdown",
   "metadata": {},
   "source": [
    "## Further reading\n",
    "\n",
    "The [Gallery](../Gallery.html) contains many more awesome ``geoplot`` demos. And to learn more about specific plot types, see the [API Reference](../api.html).\n",
    "\n",
    "To learn more about working with geospatial data in Python refer to [this complimentary tutorial](https://nbviewer.jupyter.org/github/ResidentMario/geoplot/blob/master/notebooks/tutorial/Data.ipynb). Similarly, to learn more about projections, [click here](https://nbviewer.jupyter.org/github/ResidentMario/geoplot/blob/master/notebooks/tutorial/Projections.ipynb).\n",
    "\n",
    "Once you're ready to use ``geoplot`` in your own projects, refer to [Installation](../Installation.html). "
   ]
  }
 ],
 "metadata": {
  "language_info": {
   "name": "python",
   "pygments_lexer": "ipython3"
  }
 },
 "nbformat": 4,
 "nbformat_minor": 2
}
