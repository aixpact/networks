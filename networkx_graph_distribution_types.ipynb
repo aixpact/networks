{
 "cells": [
  {
   "cell_type": "markdown",
   "metadata": {},
   "source": [
    "# Networkx \n",
    "\n",
    "[Networkx basic tutorial](http://pynetwork.readthedocs.io/en/latest/networkx_basics.html)"
   ]
  },
  {
   "cell_type": "code",
   "execution_count": null,
   "metadata": {},
   "outputs": [],
   "source": [
    "%matplotlib inline\n",
    "import networkx as nx\n",
    "import matplotlib as mpl\n",
    "import matplotlib.pyplot as plt\n",
    "import itertools\n",
    "import operator"
   ]
  },
  {
   "cell_type": "markdown",
   "metadata": {},
   "source": [
    "### Preferential wiring"
   ]
  },
  {
   "cell_type": "markdown",
   "metadata": {},
   "source": [
    "Many real (world) networks have degree distributions that look like:  \n",
    "\n",
    "__Power Law = (𝑃𝑘 = C𝑘^α) (typical α ± 2-4)__\n",
    "\n",
    "Degree distribution: pdf/relative frequency of the (in-)degrees over the entire network.\n",
    "\n",
    "__Preferential Attachment Model__ produces networks with a power law degree distribution:\n",
    "\n",
    "Probability of connecting to a node μ of degree k_μ is (k_μ / sum(k_γ))\n",
    "Probability of node is relative degree: degrees_node/total_degree_graph)\n",
    "\n",
    "Each new node is attached according to this probability distribution."
   ]
  },
  {
   "cell_type": "markdown",
   "metadata": {},
   "source": [
    "#### Barabasi-Albert\n",
    "\n",
    "barabasi_albert_graph(n, m):\n",
    " - n-node preferential attachment network, where:\n",
    " - each new node attaches to m existing nodes"
   ]
  },
  {
   "cell_type": "code",
   "execution_count": null,
   "metadata": {},
   "outputs": [],
   "source": [
    "G = nx.barabasi_albert_graph(100000, 1)\n",
    "degrees = G.degree()\n",
    "dict_degrees = {k: v for k, v in sorted(degrees)}\n",
    "degree_set = sorted(set(dict_degrees.values()))\n",
    "degree_list = list(dict_degrees.values())"
   ]
  },
  {
   "cell_type": "code",
   "execution_count": null,
   "metadata": {},
   "outputs": [],
   "source": [
    "histogram = [degree_list.count(i)/float(nx.number_of_nodes(G)) for i in degree_set]\n",
    "plt.plot(degree_set, histogram, 'o')\n",
    "plt.xlabel('Degree')\n",
    "plt.ylabel('Fraction of Nodes')\n",
    "plt.show();"
   ]
  },
  {
   "cell_type": "markdown",
   "metadata": {},
   "source": [
    "#### Log scale"
   ]
  },
  {
   "cell_type": "code",
   "execution_count": null,
   "metadata": {},
   "outputs": [],
   "source": [
    "histogram = [degree_list.count(i)/float(nx.number_of_nodes(G)) for i in degree_set]\n",
    "plt.plot(degree_set, histogram, 'o')\n",
    "plt.xlabel('Degree')\n",
    "plt.ylabel('Fraction of Nodes')\n",
    "plt.xscale('log')\n",
    "plt.yscale('log')\n",
    "plt.show();"
   ]
  },
  {
   "cell_type": "markdown",
   "metadata": {},
   "source": [
    "### Rewiring\n",
    "\n",
    "Social networks tend to have high clustering coefficient and small average path length.\n",
    "\n",
    "##### Average Clustering Coefficient(Average CC)\n",
    "Average clustering of entire network by averaging all local clustering coefficient values of all nodes.\n",
    "\n",
    "##### Local Clustering Coefficient(Local CC): \n",
    "Number of pairs of A’s friends who are friends with each other / # all possible pairs of A’s friends\n",
    "\n",
    "##### Average shortest path length - n-degrees of separation\n",
    "Shortest path length is the shortest distance from a start node to the end node.\n",
    "\n",
    "##### median path length: typically between 4-7\n",
    "TODO\n"
   ]
  },
  {
   "cell_type": "code",
   "execution_count": null,
   "metadata": {},
   "outputs": [],
   "source": [
    "G = nx.barabasi_albert_graph(1000, 6)"
   ]
  },
  {
   "cell_type": "code",
   "execution_count": null,
   "metadata": {},
   "outputs": [],
   "source": [
    "nx.average_clustering(G)"
   ]
  },
  {
   "cell_type": "code",
   "execution_count": null,
   "metadata": {},
   "outputs": [],
   "source": [
    "nx.average_shortest_path_length(G)"
   ]
  },
  {
   "cell_type": "markdown",
   "metadata": {},
   "source": [
    "### Path length distribution\n",
    "\n",
    "Motivation:  \n",
    "Real networks exhibit high clustering coefficient and small average shortest paths.\n",
    "Can we think of a model that achieves both of these properties?\n",
    "\n",
    "a. Regular Lattice (𝑝 = 0): no edge is rewired  \n",
    "b. Random Network (𝑝 = 1): all edges are rewired  \n",
    "c. Small World Network (0 < 𝑝 < 1): Some edges are rewired. Network conserves some local structure but has some randomness  "
   ]
  },
  {
   "cell_type": "markdown",
   "metadata": {},
   "source": [
    "### Watts-Strogatz\n",
    "\n",
    "watts_strogatz_graph(n, k, p) returns a small world network with n nodes starting with a ring lattice with each node connected to its k nearest neighbors, rewiring probability p."
   ]
  },
  {
   "cell_type": "code",
   "execution_count": null,
   "metadata": {},
   "outputs": [],
   "source": [
    "G = nx.watts_strogatz_graph(1000, 6, 0.04)\n",
    "degrees = G.degree()"
   ]
  },
  {
   "cell_type": "code",
   "execution_count": null,
   "metadata": {},
   "outputs": [],
   "source": [
    "dict_degrees = {k: v for k, v in sorted(degrees)}\n",
    "degree_set = sorted(set(dict_degrees.values()))\n",
    "degree_list = list(dict_degrees.values())"
   ]
  },
  {
   "cell_type": "code",
   "execution_count": null,
   "metadata": {},
   "outputs": [],
   "source": [
    "histogram = [degree_list.count(i)/float(nx.number_of_nodes(G)) for i in degree_set]\n",
    "plt.bar(degree_set, histogram)\n",
    "plt.xlabel('Degree')\n",
    "plt.ylabel('Fraction of Nodes')\n",
    "plt.show();"
   ]
  },
  {
   "cell_type": "code",
   "execution_count": null,
   "metadata": {},
   "outputs": [],
   "source": [
    "# No power law degree distribution:\n",
    "#   Since most edges are not rewired, most nodes have degree of 6.\n",
    "#   Since edges are rewired uniformly at random, no node accumulated very high degree, like in the preferential attachment model\n",
    "plt.plot(degree_set, histogram, 'o')\n",
    "plt.xlabel('Degree')\n",
    "plt.ylabel('Fraction of Nodes')\n",
    "plt.xscale('log')\n",
    "plt.yscale('log')\n",
    "plt.show();"
   ]
  },
  {
   "cell_type": "code",
   "execution_count": null,
   "metadata": {},
   "outputs": [],
   "source": [
    "G = nx.connected_watts_strogatz_graph(n, k, p, t)\n",
    "#  runs watts_strogatz_graph(n, k, p) up to t times, until it returns a connected small world network"
   ]
  },
  {
   "cell_type": "code",
   "execution_count": null,
   "metadata": {},
   "outputs": [],
   "source": [
    "G = nx.newman_watts_strogatz_graph(n, k, p)\n",
    "# runs a model similar to the small world model, but rather than rewiring edges, new edges are added with probability 𝑝"
   ]
  },
  {
   "cell_type": "markdown",
   "metadata": {},
   "source": [
    "### Summary:\n",
    "\n",
    "- __Real social networks__:\n",
    " - small shortest paths\n",
    " - high clustering coefficient\n",
    "- __Preferential attachment model__:\n",
    " - small shortest paths\n",
    " - very small clustering\n",
    "- __Small world model__(p = small):\n",
    " - small average shortest path\n",
    " - high clustering coefficient (=matching real networks). However, the degree distribution is not a power law\n",
    "\n",
    "watts_strogatz_graph(n, k, p) (and other variants) to produce small world networks"
   ]
  },
  {
   "cell_type": "markdown",
   "metadata": {},
   "source": [
    "### Link Prediction"
   ]
  },
  {
   "cell_type": "markdown",
   "metadata": {},
   "source": [
    "Given a network, can we predict which edges will be formed in the future?\n",
    "- What new edges are likely to form in this network?\n",
    "- Given a pair of nodes, how to assess whether they are likely to connect?\n",
    "\n",
    "__Triadic closure__:  \n",
    "The tendency for people who share connections in a social network to become connected."
   ]
  },
  {
   "cell_type": "markdown",
   "metadata": {},
   "source": [
    "#### Measure 1: Common Neighbors (intercept)\n",
    "The number of common neighbors of nodes 𝑋 and 𝑌"
   ]
  },
  {
   "cell_type": "code",
   "execution_count": null,
   "metadata": {},
   "outputs": [],
   "source": [
    "G = nx.newman_watts_strogatz_graph(100, 5, 0.1)\n",
    "common_neigh = [(e[0], e[1], len(list(nx.common_neighbors(G, e[0], e[1])))) for e in nx.non_edges(G)]\n",
    "sorted(common_neigh, key=operator.itemgetter(2), reverse=True)[:5]"
   ]
  },
  {
   "cell_type": "markdown",
   "metadata": {},
   "source": [
    "#### Jaccard Coefficient (intercept over union)\n",
    "Number of common neighbors normalized by the total number of neighbors\n",
    "common_neighbors/total_neighbors"
   ]
  },
  {
   "cell_type": "code",
   "execution_count": null,
   "metadata": {},
   "outputs": [],
   "source": [
    "L = list(nx.jaccard_coefficient(G))\n",
    "L.sort(key=operator.itemgetter(2), reverse=True)\n",
    "L[:5]"
   ]
  },
  {
   "cell_type": "markdown",
   "metadata": {},
   "source": [
    "#### Resource\n",
    "Fraction of a ”resource” that a node can send to another through their common neighbors\n",
    "sum(1/degree_common_neighbor)"
   ]
  },
  {
   "cell_type": "code",
   "execution_count": null,
   "metadata": {},
   "outputs": [],
   "source": [
    "L = list(nx.resource_allocation_index(G))\n",
    "L.sort(key=operator.itemgetter(2), reverse=True)\n",
    "L[:5]"
   ]
  },
  {
   "cell_type": "markdown",
   "metadata": {},
   "source": [
    "#### Adamic Adar Index\n",
    "Similar to resource allocation index, but with log in the denominator\n",
    "sum(1/log(degree_common_neighbor))"
   ]
  },
  {
   "cell_type": "code",
   "execution_count": null,
   "metadata": {},
   "outputs": [],
   "source": [
    "L = list(nx.adamic_adar_index(G))\n",
    "L.sort(key=operator.itemgetter(2), reverse=True)\n",
    "L[:5]"
   ]
  },
  {
   "cell_type": "markdown",
   "metadata": {},
   "source": [
    "#### Preferential Attachment\n",
    "In the preferential attachment model, nodes with high degree get more neighbors\n",
    "degree_source * degree_target"
   ]
  },
  {
   "cell_type": "code",
   "execution_count": null,
   "metadata": {},
   "outputs": [],
   "source": [
    "L = list(nx.preferential_attachment(G))\n",
    "L.sort(key=operator.itemgetter(2), reverse=True)\n",
    "L[:5]"
   ]
  },
  {
   "cell_type": "markdown",
   "metadata": {},
   "source": [
    "#### Community Common Neighbors\n",
    "Number of common neighbors with bonus of 1 for each neighbor in same community\n",
    "f(u) = 1 if same community else 0\n",
    "sum(f(u) * degree)"
   ]
  },
  {
   "cell_type": "code",
   "execution_count": null,
   "metadata": {},
   "outputs": [],
   "source": [
    "G = nx.newman_watts_strogatz_graph(9, 5, 0.1)\n",
    "G.nodes()\n",
    "G.node[0]['community'] = 0\n",
    "G.node[1]['community'] = 0\n",
    "G.node[2]['community'] = 0\n",
    "G.node[3]['community'] = 0\n",
    "G.node[4]['community'] = 1\n",
    "G.node[5]['community'] = 1\n",
    "G.node[6]['community'] = 1\n",
    "G.node[7]['community'] = 1\n",
    "G.node[8]['community'] = 1\n",
    "L = list(nx.cn_soundarajan_hopcroft(G))\n",
    "L.sort(key=operator.itemgetter(2), reverse=True); L"
   ]
  },
  {
   "cell_type": "markdown",
   "metadata": {},
   "source": [
    "#### Community Resource Allocation\n",
    "Similar to resource allocation index, but only considering nodes in the same community  \n",
    "f(u) = 1 if same community else 0  \n",
    "sum(f(u)/degree)"
   ]
  },
  {
   "cell_type": "code",
   "execution_count": null,
   "metadata": {},
   "outputs": [],
   "source": [
    "L = list(nx.ra_index_soundarajan_hopcroft(G))\n",
    "L.sort(key=operator.itemgetter(2), reverse=True)\n",
    "L[:5]"
   ]
  },
  {
   "cell_type": "markdown",
   "metadata": {},
   "source": [
    "### Summary\n",
    "Link prediction problem:  \n",
    "Given a network, predict which edges will be formed in the future.  \n",
    "\n",
    "5 basic measures:  \n",
    "– NumberofCommonNeighbors – JaccardCoefficient  \n",
    "– ResourceAllocationIndex  \n",
    "– Adamic-AdarIndex  \n",
    "– PreferentialAttachmentScore  \n",
    "\n",
    "2 measures that require community information:  \n",
    "– CommonNeighbor-Soundarajan-HopcroftScore  \n",
    "– ResourceAllocation-Soundarajan-HopcroftScore  "
   ]
  },
  {
   "cell_type": "markdown",
   "metadata": {},
   "source": [
    "### Plot"
   ]
  },
  {
   "cell_type": "code",
   "execution_count": null,
   "metadata": {},
   "outputs": [],
   "source": [
    "# See what layouts are available in networkX\n",
    "[x for x in nx.__dir__() if x.endswith('_layout')]"
   ]
  },
  {
   "cell_type": "code",
   "execution_count": null,
   "metadata": {},
   "outputs": [],
   "source": [
    "# draw the graph using the default spring layout\n",
    "plt.figure(figsize=(12, 8))\n",
    "\n",
    "pos_a = nx.random_layout(G)                   # for nodes without geo location attribute\n",
    "pos_b = nx.get_node_attributes(G, 'location') # for nodes with geo location attribute\n",
    "\n",
    "nx.draw_networkx(G, pos_a, alpha=0.7, with_labels=False, edge_color='.4')\n",
    "plt.axis('off')\n",
    "plt.show;"
   ]
  },
  {
   "cell_type": "markdown",
   "metadata": {},
   "source": [
    "Draw graph with varying node color, node size, and edge width"
   ]
  },
  {
   "cell_type": "code",
   "execution_count": null,
   "metadata": {},
   "outputs": [],
   "source": [
    "plt.figure(figsize=(12, 8))\n",
    "pos_a = nx.fruchterman_reingold_layout(G)\n",
    "\n",
    "node_color =  [1000*nx.degree_centrality(G)[v] for v in G] # [50*nx.degree(G)[v] for v in G]\n",
    "node_size = [100*G.degree(v) for v in G]\n",
    "edge_width = [20*nx.betweenness_centrality(G, normalized=True, endpoints=False)[v] for v in G]\n",
    "\n",
    "# Option when weighted edges\n",
    "# edge_width = [0.0015*G[u][v]['weight'] for u, v in G.edges()]\n",
    "\n",
    "nx.draw_networkx(G, \n",
    "                 pos_a, \n",
    "                 node_size=node_size,\n",
    "                 node_color=node_color, \n",
    "                 alpha=0.7, \n",
    "                 with_labels=True,\n",
    "                 width=edge_width, \n",
    "                 edge_color='.4', \n",
    "                 cmap=plt.cm.Blues)\n",
    "\n",
    "# nx.draw_networkx_labels(G, pos_a, labels={'1': '1', '2': '2'}, font_size=18, font_color='w')\n",
    "\n",
    "plt.axis('off')\n",
    "plt.tight_layout();"
   ]
  },
  {
   "cell_type": "code",
   "execution_count": null,
   "metadata": {},
   "outputs": [],
   "source": []
  }
 ],
 "metadata": {
  "language_info": {
   "name": "python",
   "pygments_lexer": "ipython3"
  }
 },
 "nbformat": 4,
 "nbformat_minor": 2
}
